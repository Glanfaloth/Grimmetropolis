{
  "nbformat": 4,
  "nbformat_minor": 0,
  "metadata": {
    "kernelspec": {
      "display_name": "PySpark",
      "name": "pysparkkernel",
      "language": ""
    },
    "language_info": {
      "mimetype": "text/x-python",
      "pygments_lexer": "python2",
      "name": "pyspark",
      "codemirror_mode": {
        "version": 2,
        "name": "python"
      }
    },
    "colab": {
      "name": "Exercise10_DF_SparkSQL.ipynb",
      "provenance": [],
      "collapsed_sections": []
    }
  },
  "cells": [
    {
      "cell_type": "markdown",
      "metadata": {
        "editable": true,
        "deletable": true,
        "id": "T50W_m6GrLtt"
      },
      "source": [
        "# <center>Big Data for Engineers &ndash; Exercises</center>\n",
        "## <center>Spring 2021 &ndash; Week 10 &ndash; ETH Zurich</center>\n",
        "## <center>Spark Dataframes and SparkSQL</center>\n",
        "\n",
        "## Introduction\n",
        "For this exercise please create a Spark cluster on Azure as in the previous exercises. \n",
        "- If you have performance problems, check the yarn UI (```https://<cluster_name>.azurehdinsight.net/yarnui/hn/cluster```) and make sure that there are no unwanted applications hogging the resources.\n",
        "\n",
        "## Getting the data\n",
        "\n",
        "\n",
        "- Log in using ssh to your cluster:  ```ssh <ssh_user_name>@<cluster_name>-ssh.azurehdinsight.net```\n",
        "- Download the data: ```wget https://bigdata2020exassets.blob.core.windows.net/ex09/orders.jsonl```\n",
        "- Upload the data to HDFS: ```hdfs dfs -put orders.jsonl /tmp/```\n",
        "\n",
        "\n",
        "After you have uploaded the dataset into the Azure Blob, upload this notebook onto the Spark Jupyter server  (`https://<cluster-name>.azurehdinsight.net/jupyter`)."
      ]
    },
    {
      "cell_type": "markdown",
      "metadata": {
        "editable": true,
        "deletable": true,
        "id": "kCQP9cPLrLt4"
      },
      "source": [
        "## Spark Session\n",
        "When you execute the first cell in this notebook, a spark session will be created automatically, you can print information about the session with the ```%%info``` magics"
      ]
    },
    {
      "cell_type": "code",
      "metadata": {
        "editable": true,
        "cell_status": {
          "execute_time": {
            "duration": 229.733154296875,
            "end_time": 1620477781437.842
          }
        },
        "deletable": true,
        "id": "Z3yDoqoyrLt5"
      },
      "source": [
        "print(\"Hello\")"
      ],
      "execution_count": null,
      "outputs": []
    },
    {
      "cell_type": "code",
      "metadata": {
        "collapsed": true,
        "editable": true,
        "cell_status": {
          "execute_time": {
            "duration": 39.2109375,
            "end_time": 1573739034651.142
          }
        },
        "deletable": true,
        "id": "jx14Kb4prLt7"
      },
      "source": [
        "%%info"
      ],
      "execution_count": null,
      "outputs": []
    },
    {
      "cell_type": "markdown",
      "metadata": {
        "editable": true,
        "deletable": true,
        "id": "BayGphrNrLt8"
      },
      "source": [
        "By default the session is created with 3 Spark executors. We can change the configuration with the ```%%configure``` magics. Make sure you have enough vCores/Memory. You can see your total amount of available resources in yarnUI. "
      ]
    },
    {
      "cell_type": "code",
      "metadata": {
        "collapsed": true,
        "editable": true,
        "cell_status": {
          "execute_time": {
            "duration": 9397.053955078125,
            "end_time": 1573739104512.548
          }
        },
        "deletable": true,
        "id": "KUN1dhclrLt9"
      },
      "source": [
        "%%configure -f\n",
        "{\"executorMemory\": \"2G\", \"numExecutors\": 6, \"driverMemory\": \"4G\"}"
      ],
      "execution_count": null,
      "outputs": []
    },
    {
      "cell_type": "markdown",
      "metadata": {
        "editable": true,
        "deletable": true,
        "id": "QNDasOTzrLt-"
      },
      "source": [
        "## 1. Spark Dataframes\n",
        "\n",
        "Spark Dataframes allow the user to perform simple and efficient operations on data, as long as the data is structured and has a schema. Dataframes are similar to relational tables in relational databases: conceptually a dataframe is a specialization of a Spark RDD with schema information attached. You can find more information in Karau, H. et al. (2015). Learning Spark, Chapter 9 (optional reading)."
      ]
    },
    {
      "cell_type": "markdown",
      "metadata": {
        "editable": true,
        "deletable": true,
        "id": "99J-IYGzrLt-"
      },
      "source": [
        "### 1.1. Data preprocessing"
      ]
    },
    {
      "cell_type": "code",
      "metadata": {
        "scrolled": true,
        "cell_status": {
          "execute_time": {
            "duration": 7495.68408203125,
            "end_time": 1620481449741.919
          }
        },
        "deletable": true,
        "editable": true,
        "id": "evwMo2asrLt_"
      },
      "source": [
        "import json\n",
        "\n",
        "path = \"/tmp/orders.jsonl\"\n",
        "orders_df = spark.read.json(path).cache()"
      ],
      "execution_count": null,
      "outputs": []
    },
    {
      "cell_type": "markdown",
      "metadata": {
        "editable": true,
        "deletable": true,
        "id": "YkrETYaBrLt_"
      },
      "source": [
        "The type of our dataset object is DataFrame"
      ]
    },
    {
      "cell_type": "code",
      "metadata": {
        "cell_status": {
          "execute_time": {
            "duration": 35.862060546875,
            "end_time": 1573665101742.127
          }
        },
        "deletable": true,
        "editable": true,
        "id": "tr6Ng12YI7Du"
      },
      "source": [
        "type(orders_df)"
      ],
      "execution_count": null,
      "outputs": []
    },
    {
      "cell_type": "markdown",
      "metadata": {
        "editable": true,
        "deletable": true,
        "id": "fdB-a8xnI7Du"
      },
      "source": [
        "Print the schema"
      ]
    },
    {
      "cell_type": "code",
      "metadata": {
        "cell_status": {
          "execute_time": {
            "duration": 251.81103515625,
            "end_time": 1573665103317.247
          }
        },
        "deletable": true,
        "editable": true,
        "id": "0lV6WdLQI7Du"
      },
      "source": [
        "orders_df.printSchema()"
      ],
      "execution_count": null,
      "outputs": []
    },
    {
      "cell_type": "markdown",
      "metadata": {
        "editable": true,
        "deletable": true,
        "id": "RulamP9RI7Du"
      },
      "source": [
        "Print one row"
      ]
    },
    {
      "cell_type": "code",
      "metadata": {
        "cell_status": {
          "execute_time": {
            "duration": 3283.30908203125,
            "end_time": 1573665107643.345
          }
        },
        "deletable": true,
        "editable": true,
        "id": "KJ7JYfnZI7Du"
      },
      "source": [
        "orders_df.limit(1).collect()"
      ],
      "execution_count": null,
      "outputs": []
    },
    {
      "cell_type": "markdown",
      "metadata": {
        "editable": true,
        "deletable": true,
        "id": "ZJOQJZwlI7Du"
      },
      "source": [
        "You can access the underlying RDD object and use any functions you learned for Spark RDDs."
      ]
    },
    {
      "cell_type": "code",
      "metadata": {
        "cell_status": {
          "execute_time": {
            "duration": 17329.39501953125,
            "end_time": 1573665345486.969
          }
        },
        "deletable": true,
        "editable": true,
        "id": "v8Nw_5rmI7Dv"
      },
      "source": [
        "orders_df.rdd.filter(lambda ordr: ordr.customer.last_name == \"Landry\").count()"
      ],
      "execution_count": null,
      "outputs": []
    },
    {
      "cell_type": "markdown",
      "metadata": {
        "editable": true,
        "deletable": true,
        "id": "4gHxD8vNI7Dv"
      },
      "source": [
        "### 1.2. Dataframe Operations\n",
        "We perform some queries using operations on Dataframes ([Here](https://spark.apache.org/docs/2.3.0/sql-programming-guide.html#untyped-dataset-operations-aka-dataframe-operations) is a guide on DF Operations with a link to the [API Documentation](https://spark.apache.org/docs/2.3.0/api/python/pyspark.sql.html))"
      ]
    },
    {
      "cell_type": "markdown",
      "metadata": {
        "editable": true,
        "deletable": true,
        "id": "Ae6QeA9YI7Dv"
      },
      "source": [
        "We can select columns and show the result"
      ]
    },
    {
      "cell_type": "code",
      "metadata": {
        "cell_status": {
          "execute_time": {
            "duration": 252.5771484375,
            "end_time": 1573665989686.293
          }
        },
        "deletable": true,
        "editable": true,
        "id": "pxG1k0FKI7Dv"
      },
      "source": [
        "orders_df.select(\"customer.first_name\", \"customer.last_name\").limit(5).show()"
      ],
      "execution_count": null,
      "outputs": []
    },
    {
      "cell_type": "markdown",
      "metadata": {
        "editable": true,
        "deletable": true,
        "id": "zbfzPHCmI7Dv"
      },
      "source": [
        "As you can see we can navigate to the nested items with the dot"
      ]
    },
    {
      "cell_type": "code",
      "metadata": {
        "cell_status": {
          "execute_time": {
            "duration": 2263.60888671875,
            "end_time": 1573665774856.528
          }
        },
        "deletable": true,
        "editable": true,
        "id": "CY7FDKGcI7Dv"
      },
      "source": [
        "orders_df.filter(orders_df[\"customer.last_name\"] == \"Landry\").count()"
      ],
      "execution_count": null,
      "outputs": []
    },
    {
      "cell_type": "markdown",
      "metadata": {
        "editable": true,
        "deletable": true,
        "id": "W5V7_pSRI7Dw"
      },
      "source": [
        "How about nested arrays?"
      ]
    },
    {
      "cell_type": "code",
      "metadata": {
        "cell_status": {
          "execute_time": {
            "duration": 251.12890625,
            "end_time": 1573666229796.764
          }
        },
        "deletable": true,
        "editable": true,
        "id": "nL8TxoZRI7Dw"
      },
      "source": [
        "orders_df.select(\"order_id\", \"items\").orderBy(\"order_id\").limit(5).show()"
      ],
      "execution_count": null,
      "outputs": []
    },
    {
      "cell_type": "markdown",
      "metadata": {
        "editable": true,
        "deletable": true,
        "id": "kN7ySTnGI7Dw"
      },
      "source": [
        "Let us try to find orders of a fan."
      ]
    },
    {
      "cell_type": "code",
      "metadata": {
        "cell_status": {
          "execute_time": {
            "duration": 239.119140625,
            "end_time": 1573666737735.271
          }
        },
        "deletable": true,
        "editable": true,
        "id": "PpX6QYOaI7Dw"
      },
      "source": [
        "orders_df.filter(orders_df[\"items.product\"] == \"fan\").count()"
      ],
      "execution_count": null,
      "outputs": []
    },
    {
      "cell_type": "markdown",
      "metadata": {
        "editable": true,
        "deletable": true,
        "id": "MGq1NjntI7Dw"
      },
      "source": [
        "The above code doesn't work! Use ```array contains``` instead."
      ]
    },
    {
      "cell_type": "code",
      "metadata": {
        "cell_status": {
          "execute_time": {
            "duration": 251.64599609375,
            "end_time": 1573666726393.938
          }
        },
        "deletable": true,
        "editable": true,
        "id": "jLASULZuI7Dw"
      },
      "source": [
        "from pyspark.sql.functions import array_contains\n",
        "\n",
        "orders_df.filter(array_contains(\"items.product\", \"fan\")).count()"
      ],
      "execution_count": null,
      "outputs": []
    },
    {
      "cell_type": "markdown",
      "metadata": {
        "editable": true,
        "deletable": true,
        "id": "qAuJJGGRI7Dx"
      },
      "source": [
        "Let us try to unnest the data.\n",
        "\n",
        "Unnest the products with explode.\n",
        "\n",
        "Explode will generate as many rows as there are elements in the array and match them to other attributes."
      ]
    },
    {
      "cell_type": "code",
      "metadata": {
        "cell_status": {
          "execute_time": {
            "duration": 1255.80712890625,
            "end_time": 1573666787807.612
          }
        },
        "deletable": true,
        "editable": true,
        "id": "JzGEFcZoI7Dx"
      },
      "source": [
        "from pyspark.sql.functions import explode\n",
        "\n",
        "orders_df.select(explode(\"items\").alias(\"i\"), \"i.product\", \"order_id\").orderBy(\"order_id\").limit(5).show()"
      ],
      "execution_count": null,
      "outputs": []
    },
    {
      "cell_type": "markdown",
      "metadata": {
        "editable": true,
        "deletable": true,
        "id": "Z0zlLnp4I7Dx"
      },
      "source": [
        "Now we can use this table to filter."
      ]
    },
    {
      "cell_type": "code",
      "metadata": {
        "cell_status": {
          "execute_time": {
            "duration": 746.837158203125,
            "end_time": 1573667003917.751
          }
        },
        "deletable": true,
        "editable": true,
        "id": "cdGtZJR4I7Dx"
      },
      "source": [
        "exploded_df = orders_df.select(explode(\"items\").alias(\"i\"), \"i.product\", \"order_id\")\n",
        "exploded_df.filter(exploded_df[\"product\"] == \"fan\").count()"
      ],
      "execution_count": null,
      "outputs": []
    },
    {
      "cell_type": "markdown",
      "metadata": {
        "editable": true,
        "deletable": true,
        "id": "V3MFtKmEI7Dx"
      },
      "source": [
        "You might have tried to access the i.product column directly using a ```.filter``` right after the ```.select```. That, however, does not work, because the column is not available to ```orders_df``` when creating a clause like ```(orders_df[\"i.product\"] == \"fan\")```. A possible workaround when using Dataframe operations is that of using a string clause in ```.filter```, so that the product column will be resolved after it has been added with the ```.select```."
      ]
    },
    {
      "cell_type": "code",
      "metadata": {
        "scrolled": true,
        "cell_status": {
          "execute_time": {
            "duration": 247.906005859375,
            "end_time": 1573667777707.59
          }
        },
        "deletable": true,
        "editable": true,
        "id": "RXzDgj5AI7Dy"
      },
      "source": [
        "orders_df.select(explode(\"items\").alias(\"i\"), \"i.product\", \"order_id\").filter(\"product = 'fan'\").count()"
      ],
      "execution_count": null,
      "outputs": []
    },
    {
      "cell_type": "markdown",
      "metadata": {
        "editable": true,
        "deletable": true,
        "id": "smURKnCRI7Dy"
      },
      "source": [
        "Project the nested columns"
      ]
    },
    {
      "cell_type": "code",
      "metadata": {
        "cell_status": {
          "execute_time": {
            "duration": 269.365966796875,
            "end_time": 1573669285846.051
          }
        },
        "deletable": true,
        "editable": true,
        "id": "KwxIIJbNI7Dy"
      },
      "source": [
        "orders_df.select(explode(\"items\").alias(\"i\"), \"*\").select(\n",
        "    \"order_id\", \"customer.*\", \"date\", \"i.*\").limit(3).show()"
      ],
      "execution_count": null,
      "outputs": []
    },
    {
      "cell_type": "markdown",
      "metadata": {
        "editable": true,
        "deletable": true,
        "id": "gxdSOAELI7Dy"
      },
      "source": [
        "### 1.3 Exercises"
      ]
    },
    {
      "cell_type": "markdown",
      "metadata": {
        "editable": true,
        "deletable": true,
        "id": "xbaeoySMI7Dy"
      },
      "source": [
        "1) Find the average quantity at which each product is purchased. Only show the top 10 products by quantity. (Hint: you may need to import the function ```desc``` from ```pyspark.sql.functions``` to define descending order)"
      ]
    },
    {
      "cell_type": "code",
      "metadata": {
        "cell_status": {
          "execute_time": {
            "duration": 4287.89892578125,
            "end_time": 1573675535490.617
          }
        },
        "deletable": true,
        "editable": true,
        "id": "y2-nJF5pI7Dy"
      },
      "source": [
        "# Your Code Here"
      ],
      "execution_count": null,
      "outputs": []
    },
    {
      "cell_type": "markdown",
      "metadata": {
        "editable": true,
        "deletable": true,
        "id": "Vy3TVhpII7Dy"
      },
      "source": [
        "2) Find the most expensive order"
      ]
    },
    {
      "cell_type": "code",
      "metadata": {
        "cell_status": {
          "execute_time": {
            "duration": 2290.953125,
            "end_time": 1573669705281.358
          }
        },
        "deletable": true,
        "editable": true,
        "id": "LrY_mSnoI7Dz"
      },
      "source": [
        "# Your Code Here"
      ],
      "execution_count": null,
      "outputs": []
    },
    {
      "cell_type": "markdown",
      "metadata": {
        "editable": true,
        "deletable": true,
        "id": "afpPBhRBrLuR"
      },
      "source": [
        "## 2. Spark SQL\n",
        "\n",
        "Spark SQL allows the users to formulate their queries using SQL. The requirement is the use of Dataframes, which as said before are similar to relational tables. In addition to a familiar interface, writing queries in SQL might provide better performance than RDDs, inheriting efficiency from the Dataframe operations, while also performing automatic optimization of queries."
      ]
    },
    {
      "cell_type": "markdown",
      "metadata": {
        "editable": true,
        "deletable": true,
        "id": "px2Upx-XrLuR"
      },
      "source": [
        "In order to use sql we need to create a temporary table.\n",
        "\n",
        "This table only exists for the current session."
      ]
    },
    {
      "cell_type": "code",
      "metadata": {
        "scrolled": true,
        "cell_status": {
          "execute_time": {
            "duration": 1077.370849609375,
            "end_time": 1620481459223.37
          }
        },
        "deletable": true,
        "collapsed": true,
        "editable": true,
        "id": "6ER4rWAErLuR"
      },
      "source": [
        "orders_df.registerTempTable(\"orders\")"
      ],
      "execution_count": null,
      "outputs": []
    },
    {
      "cell_type": "markdown",
      "metadata": {
        "editable": true,
        "deletable": true,
        "id": "gjLuAbBDrLuR"
      },
      "source": [
        "### 2.1 Queries"
      ]
    },
    {
      "cell_type": "markdown",
      "metadata": {
        "editable": true,
        "deletable": true,
        "id": "tRtQlLcorLuS"
      },
      "source": [
        "Finally, run SQL queries on the registered tables. We will run the same queries as during the previous section, but with SQL.\n",
        "\n",
        "As you can see we can navigate to the nested items with the dot."
      ]
    },
    {
      "cell_type": "code",
      "metadata": {
        "collapsed": true,
        "editable": true,
        "cell_status": {
          "execute_time": {
            "duration": 11478.6259765625,
            "end_time": 1573665795839.541
          }
        },
        "deletable": true,
        "id": "08YF-SzQrLuS"
      },
      "source": [
        "%%sql\n",
        "-- Finally, run SQL queries on the registered tables\n",
        "-- As you can see we can navigate to the nested items with the dot\n",
        "SELECT count(*)\n",
        "FROM orders\n",
        "WHERE orders.customer.last_name == \"Landry\""
      ],
      "execution_count": null,
      "outputs": []
    },
    {
      "cell_type": "markdown",
      "metadata": {
        "editable": true,
        "deletable": true,
        "id": "mLi6yF3NrLuS"
      },
      "source": [
        "How about nested arrays?"
      ]
    },
    {
      "cell_type": "code",
      "metadata": {
        "collapsed": true,
        "editable": true,
        "cell_status": {
          "execute_time": {
            "duration": 2276.55419921875,
            "end_time": 1573666251672.414
          }
        },
        "deletable": true,
        "id": "ueKrbWtprLuT"
      },
      "source": [
        "%%sql\n",
        "-- How about nested arrays?\n",
        "SELECT order_id, items\n",
        "FROM orders AS o\n",
        "ORDER BY order_id\n",
        "LIMIT 5"
      ],
      "execution_count": null,
      "outputs": []
    },
    {
      "cell_type": "markdown",
      "metadata": {
        "editable": true,
        "deletable": true,
        "id": "3enkDNcNrLuT"
      },
      "source": [
        "Let us try to find orders of a fan."
      ]
    },
    {
      "cell_type": "code",
      "metadata": {
        "collapsed": true,
        "editable": true,
        "cell_status": {
          "execute_time": {
            "duration": 248.202880859375,
            "end_time": 1573666528302.263
          }
        },
        "deletable": true,
        "id": "4J1iegPzrLuU"
      },
      "source": [
        "%%sql \n",
        "SELECT count(*)\n",
        "FROM orders\n",
        "WHERE items.product = \"fan\""
      ],
      "execution_count": null,
      "outputs": []
    },
    {
      "cell_type": "markdown",
      "metadata": {
        "editable": true,
        "deletable": true,
        "id": "tksvS7EMrLuU"
      },
      "source": [
        "The above code doesn't work! Use ```array contains``` instead."
      ]
    },
    {
      "cell_type": "code",
      "metadata": {
        "collapsed": true,
        "editable": true,
        "cell_status": {
          "execute_time": {
            "duration": 752.942138671875,
            "end_time": 1573666530734.473
          }
        },
        "deletable": true,
        "id": "2ciacrCvrLuU"
      },
      "source": [
        "%%sql\n",
        "\n",
        "SELECT count(*)\n",
        "FROM orders\n",
        "WHERE array_contains(items.product, \"fan\")"
      ],
      "execution_count": null,
      "outputs": []
    },
    {
      "cell_type": "markdown",
      "metadata": {
        "editable": true,
        "deletable": true,
        "id": "oCidK2FCrLuV"
      },
      "source": [
        "Let us try to unnest the data.\n",
        "\n",
        "Unnest the products with explode.\n",
        "\n",
        "Explode will generate as many rows as there are elements in the array and match them to other attributes."
      ]
    },
    {
      "cell_type": "code",
      "metadata": {
        "collapsed": true,
        "editable": true,
        "cell_status": {
          "execute_time": {
            "duration": 772.9169921875,
            "end_time": 1573667016192.464
          }
        },
        "deletable": true,
        "id": "hzQNPK2FrLuV"
      },
      "source": [
        "%%sql\n",
        "SELECT explode(items) as i, i.product, order_id\n",
        "FROM orders\n",
        "ORDER BY order_id\n",
        "limit 5"
      ],
      "execution_count": null,
      "outputs": []
    },
    {
      "cell_type": "markdown",
      "metadata": {
        "editable": true,
        "deletable": true,
        "id": "pk8iNQLDrLuV"
      },
      "source": [
        "Now we can use this table to filter."
      ]
    },
    {
      "cell_type": "code",
      "metadata": {
        "collapsed": true,
        "editable": true,
        "cell_status": {
          "execute_time": {
            "duration": 3281.930908203125,
            "end_time": 1573667022422.047
          }
        },
        "deletable": true,
        "id": "Lyv99R83rLuW"
      },
      "source": [
        "%%sql\n",
        "-- Filter on product\n",
        "SELECT count(*)\n",
        "    FROM (\n",
        "    SELECT explode(items) as i, i.product, order_id\n",
        "    FROM orders\n",
        "    ORDER BY order_id\n",
        "    )\n",
        "WHERE product = \"fan\""
      ],
      "execution_count": null,
      "outputs": []
    },
    {
      "cell_type": "markdown",
      "metadata": {
        "editable": true,
        "deletable": true,
        "id": "JuaBXyXGrLuW"
      },
      "source": [
        "You might have tried to access the i.product column directly in the same ```SELECT``` clause. That, however, does not work, because the column is not available to the ```WHERE``` clause. In order to access the built columns directly, we need to unnest the data and make it part of our ```FROM``` clause. ```LATERAL VIEW``` lets us do just that, matching each non-array attribute to an unnested row from the array.  "
      ]
    },
    {
      "cell_type": "code",
      "metadata": {
        "collapsed": true,
        "editable": true,
        "cell_status": {
          "execute_time": {
            "duration": 770.024169921875,
            "end_time": 1573667932258.994
          }
        },
        "deletable": true,
        "id": "VijVTv2xrLuX"
      },
      "source": [
        "%%sql\n",
        "SELECT *\n",
        "FROM orders lateral view explode(items) as flat_items\n",
        "WHERE flat_items.product = \"fan\"\n",
        "ORDER BY order_id\n",
        "LIMIT 3"
      ],
      "execution_count": null,
      "outputs": []
    },
    {
      "cell_type": "markdown",
      "metadata": {
        "editable": true,
        "deletable": true,
        "id": "EsCKrVQ1rLuX"
      },
      "source": [
        "Project the nested columns"
      ]
    },
    {
      "cell_type": "code",
      "metadata": {
        "collapsed": true,
        "editable": true,
        "cell_status": {
          "execute_time": {
            "duration": 2275.98095703125,
            "end_time": 1573667943996.512
          }
        },
        "deletable": true,
        "id": "S39WmNLBrLuX"
      },
      "source": [
        "%%sql\n",
        "SELECT order_id, customer.first_name, customer.last_name, date, flat_items.*\n",
        "FROM orders lateral view explode(items) item_table as flat_items\n",
        "WHERE flat_items.product = \"fan\"\n",
        "ORDER BY order_id\n",
        "LIMIT 3"
      ],
      "execution_count": null,
      "outputs": []
    },
    {
      "cell_type": "markdown",
      "metadata": {
        "editable": true,
        "deletable": true,
        "id": "z_a0SvIrrLuX"
      },
      "source": [
        "Having built an unnested table, we can now easily aggregate over the previously nested columns"
      ]
    },
    {
      "cell_type": "markdown",
      "metadata": {
        "editable": true,
        "deletable": true,
        "id": "Q6Ude1QurLuY"
      },
      "source": [
        "### 2.2 Exercises"
      ]
    },
    {
      "cell_type": "markdown",
      "metadata": {
        "editable": true,
        "deletable": true,
        "id": "XW3iP8J3rLuY"
      },
      "source": [
        "1) Find the average quantity at which each product is purchased. Only show the top 10 products by quantity. "
      ]
    },
    {
      "cell_type": "code",
      "metadata": {
        "collapsed": true,
        "editable": true,
        "cell_status": {
          "execute_time": {
            "duration": 2274.546142578125,
            "end_time": 1573669714658.905
          }
        },
        "deletable": true,
        "id": "gjpEnAhErLuY"
      },
      "source": [
        "%%sql\n",
        "# Your SQL Query Here"
      ],
      "execution_count": null,
      "outputs": []
    },
    {
      "cell_type": "markdown",
      "metadata": {
        "editable": true,
        "deletable": true,
        "id": "O0lmVfTfrLuY"
      },
      "source": [
        "2) Find the most expensive order"
      ]
    },
    {
      "cell_type": "code",
      "metadata": {
        "collapsed": true,
        "editable": true,
        "cell_status": {
          "execute_time": {
            "duration": 1268.054931640625,
            "end_time": 1573669716818.317
          }
        },
        "deletable": true,
        "id": "UDofEe7MrLuY"
      },
      "source": [
        "%%sql\n",
        "# Your SQL Query Here"
      ],
      "execution_count": null,
      "outputs": []
    },
    {
      "cell_type": "markdown",
      "metadata": {
        "editable": true,
        "deletable": true,
        "id": "7qPak0E_rLuZ"
      },
      "source": [
        "## 3. Create Nestedness\n",
        "\n",
        "We've already had a look at the solution of dataframes/SparkSQL towards unnesting arrays by using <font face=\"courier\">explode</font> method. For the other way round, Spark Dataframes / Spark SQL also provide ways for us to nest our data by creating arrays, especially after clauses like <font face=\"courier\">group by</font>."
      ]
    },
    {
      "cell_type": "markdown",
      "metadata": {
        "editable": true,
        "deletable": true,
        "id": "MCUYQYzawGkZ"
      },
      "source": [
        "In traditional PostgreSQL, we have to use one of the aggregation functions (<font face=\"courier\">max, sum, count,</font> ...) to process the result after the <font face=\"courier\">group by</font> operation. For example, for each customer (assume there are no customers with both the same first name and last name), we want to find out how many dates at which they placed an order. The query should look like this (fill in the queries yourself):"
      ]
    },
    {
      "cell_type": "code",
      "metadata": {
        "editable": true,
        "cell_status": {
          "execute_time": {
            "duration": 11936.587890625,
            "end_time": 1620477905132.344
          }
        },
        "deletable": true,
        "id": "5FI98iZ70Ipm"
      },
      "source": [
        "# Your Code Here"
      ],
      "execution_count": null,
      "outputs": []
    },
    {
      "cell_type": "code",
      "metadata": {
        "editable": true,
        "cell_status": {
          "execute_time": {
            "duration": 14957.180908203125,
            "end_time": 1620477984175.839
          }
        },
        "deletable": true,
        "id": "FunDHOxO1zPs",
        "colab": {
          "referenced_widgets": [
            "fd7fe3bdf4c64325a8320ff980c20670",
            "a9efa0cac1714601a48834f0af4eb3fb"
          ]
        },
        "outputId": "8835267b-ab38-4bc5-ce5f-32ca505001bd"
      },
      "source": [
        "%%sql\n",
        "# Your SQL Query Here"
      ],
      "execution_count": null,
      "outputs": [
        {
          "output_type": "display_data",
          "data": {
            "application/vnd.jupyter.widget-view+json": {
              "model_id": "fd7fe3bdf4c64325a8320ff980c20670"
            }
          },
          "metadata": {
            "tags": []
          }
        },
        {
          "output_type": "display_data",
          "data": {
            "application/vnd.jupyter.widget-view+json": {
              "model_id": "a9efa0cac1714601a48834f0af4eb3fb"
            }
          },
          "metadata": {
            "tags": []
          }
        }
      ]
    },
    {
      "cell_type": "markdown",
      "metadata": {
        "editable": true,
        "deletable": true,
        "id": "dsTLU8ml2ORG"
      },
      "source": [
        "But what if we are interested not only in the number of dates, but the actual\n",
        "dates themselves? Luckily Spark Dataframes / Spark SQL do provide us with methods to preserve the original information of the date list. If now we would like to know for each customer, on which dates they placed an order, we shall use <font face=\"courier\">collect_set</font> method:"
      ]
    },
    {
      "cell_type": "code",
      "metadata": {
        "editable": true,
        "cell_status": {
          "execute_time": {
            "duration": 1418.15087890625,
            "end_time": 1620478080466.68
          }
        },
        "deletable": true,
        "id": "h1oGXmWt3gss"
      },
      "source": [
        "from pyspark.sql.functions import collect_set\n",
        "orders_df.groupBy(\"customer.first_name\", \"customer.last_name\").agg(collect_set(\"date\")).show()"
      ],
      "execution_count": null,
      "outputs": []
    },
    {
      "cell_type": "code",
      "metadata": {
        "editable": true,
        "cell_status": {
          "execute_time": {
            "duration": 10117.97900390625,
            "end_time": 1620478640139.884
          }
        },
        "deletable": true,
        "id": "aJW1JpzQ3lEV"
      },
      "source": [
        "%%sql\n",
        "select customer.first_name, customer.last_name, collect_set(\"date\") from orders group by customer.first_name, customer.last_name"
      ],
      "execution_count": null,
      "outputs": []
    },
    {
      "cell_type": "markdown",
      "metadata": {
        "editable": true,
        "deletable": true,
        "id": "t2rTR-O78gy3"
      },
      "source": [
        "For some other cases where we want to preserve all the entries rather than the de-duplicated ones, we can use  <font face=\"courier\">collect_list</font> method. For example, for each date we want to record the first and last names of customers. Since two customers might share the same last name, we need to collect all of them. The query should look like this:"
      ]
    },
    {
      "cell_type": "code",
      "metadata": {
        "editable": true,
        "cell_status": {
          "execute_time": {
            "duration": 12271.528076171875,
            "end_time": 1620480910312.875
          }
        },
        "deletable": true,
        "id": "X_PB-uAH9I5M"
      },
      "source": [
        "from pyspark.sql.functions import collect_list\n",
        "orders_df.groupBy(\"date\").agg(collect_list(\"customer.last_name\")).show()"
      ],
      "execution_count": null,
      "outputs": []
    },
    {
      "cell_type": "code",
      "metadata": {
        "editable": true,
        "cell_status": {
          "execute_time": {
            "duration": 30449.055908203125,
            "end_time": 1620481513099.958
          }
        },
        "deletable": true,
        "id": "z7DSOsKC9dmF",
        "colab": {
          "referenced_widgets": [
            "a2f4e8e80a2e424ba0e552e89b16a8a7",
            "2b9d668dbcfa4a639a140d117b5e3902"
          ]
        },
        "outputId": "eae40ebd-63f9-4ec1-9742-f1bb391d1071"
      },
      "source": [
        "%%sql\n",
        "select \"date\", collect_list(customer.last_name) from orders group by \"date\""
      ],
      "execution_count": null,
      "outputs": [
        {
          "output_type": "display_data",
          "data": {
            "application/vnd.jupyter.widget-view+json": {
              "model_id": "a2f4e8e80a2e424ba0e552e89b16a8a7"
            }
          },
          "metadata": {
            "tags": []
          }
        },
        {
          "output_type": "display_data",
          "data": {
            "application/vnd.jupyter.widget-view+json": {
              "model_id": "2b9d668dbcfa4a639a140d117b5e3902"
            }
          },
          "metadata": {
            "tags": []
          }
        }
      ]
    },
    {
      "cell_type": "markdown",
      "metadata": {
        "id": "KoJbUmwrQOmy"
      },
      "source": [
        "Now try it on yourself.\n",
        "\n",
        "For every order in 2016-1-1, return the list of products that appeared in that order:"
      ]
    },
    {
      "cell_type": "code",
      "metadata": {
        "cell_status": {
          "execute_time": {
            "duration": 90.6279296875,
            "end_time": 1620480224562.293
          }
        },
        "id": "GpWf6W_ZPg9-"
      },
      "source": [
        "# Your Code Here"
      ],
      "execution_count": null,
      "outputs": []
    },
    {
      "cell_type": "markdown",
      "metadata": {
        "id": "4ifIhGcEQmrT"
      },
      "source": [
        "For every product, return the set of dates at which it's purchased:"
      ]
    },
    {
      "cell_type": "code",
      "metadata": {
        "cell_status": {
          "execute_time": {
            "duration": 996.149169921875,
            "end_time": 1620480623060.309
          }
        },
        "id": "ZEmGI5GUPg9-"
      },
      "source": [
        "# Your Code Here"
      ],
      "execution_count": null,
      "outputs": []
    },
    {
      "cell_type": "markdown",
      "metadata": {
        "id": "uboC94LIRThc"
      },
      "source": [
        "One of the drawbacks of the <font face=\"courier\">collect_set/collect_list</font> method is they only accept one column as the argument. Later we will see how we can create nestedness on pretty much everything after we get the hang of the mighty JSONiq."
      ]
    }
  ]
}